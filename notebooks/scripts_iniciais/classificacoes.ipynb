{
 "cells": [
  {
   "cell_type": "markdown",
   "id": "76282467",
   "metadata": {},
   "source": [
    "### Teste dataset do artigo Phonocardiogram signal dataset paired with blood pressure measurements"
   ]
  },
  {
   "cell_type": "code",
   "execution_count": 14,
   "id": "6509434b",
   "metadata": {},
   "outputs": [],
   "source": [
    "import pandas as pd"
   ]
  },
  {
   "cell_type": "code",
   "execution_count": 15,
   "id": "89e9a04f",
   "metadata": {},
   "outputs": [],
   "source": [
    "df1 = pd.read_excel('Participant_BP_Label.xlsx')\n",
    "df2 = pd.read_excel('Information_78_participant.xlsx')\n",
    "df = pd.concat([df1, df2], axis=1)\n",
    "df.drop(columns=['filename'], inplace=True)"
   ]
  },
  {
   "cell_type": "code",
   "execution_count": 16,
   "id": "fed061ad",
   "metadata": {},
   "outputs": [
    {
     "data": {
      "application/vnd.microsoft.datawrangler.viewer.v0+json": {
       "columns": [
        {
         "name": "index",
         "rawType": "int64",
         "type": "integer"
        },
        {
         "name": "SYS",
         "rawType": "int64",
         "type": "integer"
        },
        {
         "name": "DAI",
         "rawType": "int64",
         "type": "integer"
        },
        {
         "name": "pluse",
         "rawType": "int64",
         "type": "integer"
        },
        {
         "name": "PtP",
         "rawType": "int64",
         "type": "integer"
        },
        {
         "name": "W",
         "rawType": "int64",
         "type": "integer"
        },
        {
         "name": "H",
         "rawType": "int64",
         "type": "integer"
        },
        {
         "name": "age",
         "rawType": "int64",
         "type": "integer"
        },
        {
         "name": "gender",
         "rawType": "int64",
         "type": "integer"
        }
       ],
       "ref": "a5aff8d6-96f5-4936-8c70-3241ba051e18",
       "rows": [
        [
         "0",
         "117",
         "70",
         "83",
         "47",
         "65",
         "165",
         "33",
         "2"
        ],
        [
         "1",
         "125",
         "82",
         "73",
         "43",
         "58",
         "166",
         "25",
         "1"
        ],
        [
         "2",
         "119",
         "75",
         "103",
         "44",
         "59",
         "161",
         "30",
         "1"
        ],
        [
         "3",
         "102",
         "66",
         "83",
         "36",
         "57",
         "160",
         "29",
         "1"
        ],
        [
         "4",
         "138",
         "79",
         "91",
         "59",
         "68",
         "165",
         "33",
         "2"
        ],
        [
         "5",
         "101",
         "57",
         "72",
         "44",
         "64",
         "164",
         "28",
         "1"
        ],
        [
         "6",
         "101",
         "65",
         "73",
         "36",
         "56",
         "161",
         "28",
         "1"
        ],
        [
         "7",
         "136",
         "73",
         "80",
         "63",
         "65",
         "170",
         "26",
         "2"
        ],
        [
         "8",
         "139",
         "78",
         "72",
         "61",
         "54",
         "155",
         "28",
         "1"
        ],
        [
         "9",
         "106",
         "80",
         "83",
         "26",
         "43",
         "155",
         "35",
         "1"
        ],
        [
         "10",
         "102",
         "55",
         "81",
         "47",
         "56",
         "164",
         "34",
         "1"
        ],
        [
         "11",
         "119",
         "86",
         "96",
         "33",
         "79",
         "177",
         "35",
         "2"
        ],
        [
         "12",
         "118",
         "78",
         "96",
         "40",
         "86",
         "161",
         "29",
         "1"
        ],
        [
         "13",
         "114",
         "84",
         "73",
         "30",
         "67",
         "150",
         "31",
         "1"
        ],
        [
         "14",
         "117",
         "70",
         "64",
         "47",
         "84",
         "171",
         "34",
         "2"
        ],
        [
         "15",
         "130",
         "76",
         "75",
         "54",
         "55",
         "165",
         "27",
         "2"
        ],
        [
         "16",
         "136",
         "94",
         "93",
         "42",
         "64",
         "164",
         "34",
         "1"
        ],
        [
         "17",
         "106",
         "72",
         "98",
         "34",
         "80",
         "183",
         "33",
         "2"
        ],
        [
         "18",
         "116",
         "67",
         "58",
         "49",
         "69",
         "171",
         "27",
         "2"
        ],
        [
         "19",
         "132",
         "65",
         "85",
         "67",
         "66",
         "163",
         "58",
         "1"
        ],
        [
         "20",
         "113",
         "57",
         "53",
         "56",
         "45",
         "150",
         "45",
         "1"
        ],
        [
         "21",
         "125",
         "74",
         "80",
         "51",
         "72",
         "175",
         "36",
         "2"
        ],
        [
         "22",
         "114",
         "79",
         "96",
         "35",
         "68",
         "174",
         "41",
         "2"
        ],
        [
         "23",
         "113",
         "78",
         "83",
         "35",
         "60",
         "161",
         "31",
         "1"
        ],
        [
         "24",
         "100",
         "65",
         "64",
         "35",
         "52",
         "165",
         "30",
         "2"
        ],
        [
         "25",
         "139",
         "81",
         "69",
         "58",
         "72",
         "155",
         "47",
         "1"
        ],
        [
         "26",
         "105",
         "74",
         "91",
         "31",
         "62",
         "156",
         "27",
         "1"
        ],
        [
         "27",
         "122",
         "84",
         "68",
         "38",
         "58",
         "162",
         "31",
         "1"
        ],
        [
         "28",
         "106",
         "76",
         "65",
         "30",
         "68",
         "165",
         "28",
         "1"
        ],
        [
         "29",
         "102",
         "69",
         "83",
         "33",
         "56",
         "157",
         "41",
         "1"
        ],
        [
         "30",
         "130",
         "87",
         "72",
         "43",
         "91",
         "181",
         "61",
         "2"
        ],
        [
         "31",
         "110",
         "66",
         "76",
         "44",
         "51",
         "167",
         "22",
         "1"
        ],
        [
         "32",
         "108",
         "69",
         "76",
         "39",
         "60",
         "173",
         "21",
         "2"
        ],
        [
         "33",
         "129",
         "80",
         "75",
         "49",
         "71",
         "174",
         "51",
         "2"
        ],
        [
         "34",
         "115",
         "73",
         "60",
         "42",
         "62",
         "163",
         "34",
         "1"
        ],
        [
         "35",
         "105",
         "72",
         "73",
         "33",
         "60",
         "156",
         "51",
         "1"
        ],
        [
         "36",
         "128",
         "74",
         "83",
         "54",
         "55",
         "163",
         "29",
         "2"
        ],
        [
         "37",
         "126",
         "79",
         "93",
         "47",
         "62",
         "162",
         "30",
         "1"
        ],
        [
         "38",
         "132",
         "78",
         "80",
         "54",
         "55",
         "158",
         "33",
         "1"
        ],
        [
         "39",
         "113",
         "69",
         "61",
         "44",
         "65",
         "178",
         "29",
         "2"
        ],
        [
         "40",
         "114",
         "64",
         "85",
         "50",
         "60",
         "165",
         "29",
         "2"
        ],
        [
         "41",
         "133",
         "77",
         "80",
         "56",
         "85",
         "163",
         "36",
         "1"
        ],
        [
         "42",
         "124",
         "77",
         "71",
         "47",
         "87",
         "157",
         "22",
         "1"
        ],
        [
         "43",
         "141",
         "83",
         "85",
         "58",
         "58",
         "155",
         "57",
         "1"
        ],
        [
         "44",
         "128",
         "78",
         "80",
         "50",
         "70",
         "171",
         "39",
         "2"
        ],
        [
         "45",
         "117",
         "82",
         "87",
         "37",
         "95",
         "173",
         "40",
         "2"
        ],
        [
         "46",
         "126",
         "82",
         "98",
         "44",
         "89",
         "163",
         "35",
         "1"
        ],
        [
         "47",
         "116",
         "81",
         "69",
         "35",
         "77",
         "160",
         "52",
         "1"
        ],
        [
         "48",
         "125",
         "90",
         "81",
         "35",
         "52",
         "162",
         "33",
         "2"
        ],
        [
         "49",
         "142",
         "79",
         "73",
         "63",
         "82",
         "170",
         "30",
         "2"
        ]
       ],
       "shape": {
        "columns": 8,
        "rows": 78
       }
      },
      "text/html": [
       "<div>\n",
       "<style scoped>\n",
       "    .dataframe tbody tr th:only-of-type {\n",
       "        vertical-align: middle;\n",
       "    }\n",
       "\n",
       "    .dataframe tbody tr th {\n",
       "        vertical-align: top;\n",
       "    }\n",
       "\n",
       "    .dataframe thead th {\n",
       "        text-align: right;\n",
       "    }\n",
       "</style>\n",
       "<table border=\"1\" class=\"dataframe\">\n",
       "  <thead>\n",
       "    <tr style=\"text-align: right;\">\n",
       "      <th></th>\n",
       "      <th>SYS</th>\n",
       "      <th>DAI</th>\n",
       "      <th>pluse</th>\n",
       "      <th>PtP</th>\n",
       "      <th>W</th>\n",
       "      <th>H</th>\n",
       "      <th>age</th>\n",
       "      <th>gender</th>\n",
       "    </tr>\n",
       "  </thead>\n",
       "  <tbody>\n",
       "    <tr>\n",
       "      <th>0</th>\n",
       "      <td>117</td>\n",
       "      <td>70</td>\n",
       "      <td>83</td>\n",
       "      <td>47</td>\n",
       "      <td>65</td>\n",
       "      <td>165</td>\n",
       "      <td>33</td>\n",
       "      <td>2</td>\n",
       "    </tr>\n",
       "    <tr>\n",
       "      <th>1</th>\n",
       "      <td>125</td>\n",
       "      <td>82</td>\n",
       "      <td>73</td>\n",
       "      <td>43</td>\n",
       "      <td>58</td>\n",
       "      <td>166</td>\n",
       "      <td>25</td>\n",
       "      <td>1</td>\n",
       "    </tr>\n",
       "    <tr>\n",
       "      <th>2</th>\n",
       "      <td>119</td>\n",
       "      <td>75</td>\n",
       "      <td>103</td>\n",
       "      <td>44</td>\n",
       "      <td>59</td>\n",
       "      <td>161</td>\n",
       "      <td>30</td>\n",
       "      <td>1</td>\n",
       "    </tr>\n",
       "    <tr>\n",
       "      <th>3</th>\n",
       "      <td>102</td>\n",
       "      <td>66</td>\n",
       "      <td>83</td>\n",
       "      <td>36</td>\n",
       "      <td>57</td>\n",
       "      <td>160</td>\n",
       "      <td>29</td>\n",
       "      <td>1</td>\n",
       "    </tr>\n",
       "    <tr>\n",
       "      <th>4</th>\n",
       "      <td>138</td>\n",
       "      <td>79</td>\n",
       "      <td>91</td>\n",
       "      <td>59</td>\n",
       "      <td>68</td>\n",
       "      <td>165</td>\n",
       "      <td>33</td>\n",
       "      <td>2</td>\n",
       "    </tr>\n",
       "    <tr>\n",
       "      <th>...</th>\n",
       "      <td>...</td>\n",
       "      <td>...</td>\n",
       "      <td>...</td>\n",
       "      <td>...</td>\n",
       "      <td>...</td>\n",
       "      <td>...</td>\n",
       "      <td>...</td>\n",
       "      <td>...</td>\n",
       "    </tr>\n",
       "    <tr>\n",
       "      <th>73</th>\n",
       "      <td>100</td>\n",
       "      <td>68</td>\n",
       "      <td>81</td>\n",
       "      <td>32</td>\n",
       "      <td>50</td>\n",
       "      <td>159</td>\n",
       "      <td>29</td>\n",
       "      <td>1</td>\n",
       "    </tr>\n",
       "    <tr>\n",
       "      <th>74</th>\n",
       "      <td>124</td>\n",
       "      <td>65</td>\n",
       "      <td>57</td>\n",
       "      <td>59</td>\n",
       "      <td>70</td>\n",
       "      <td>168</td>\n",
       "      <td>29</td>\n",
       "      <td>2</td>\n",
       "    </tr>\n",
       "    <tr>\n",
       "      <th>75</th>\n",
       "      <td>104</td>\n",
       "      <td>75</td>\n",
       "      <td>73</td>\n",
       "      <td>29</td>\n",
       "      <td>60</td>\n",
       "      <td>163</td>\n",
       "      <td>28</td>\n",
       "      <td>1</td>\n",
       "    </tr>\n",
       "    <tr>\n",
       "      <th>76</th>\n",
       "      <td>117</td>\n",
       "      <td>76</td>\n",
       "      <td>81</td>\n",
       "      <td>41</td>\n",
       "      <td>80</td>\n",
       "      <td>180</td>\n",
       "      <td>35</td>\n",
       "      <td>2</td>\n",
       "    </tr>\n",
       "    <tr>\n",
       "      <th>77</th>\n",
       "      <td>111</td>\n",
       "      <td>71</td>\n",
       "      <td>98</td>\n",
       "      <td>40</td>\n",
       "      <td>43</td>\n",
       "      <td>153</td>\n",
       "      <td>29</td>\n",
       "      <td>1</td>\n",
       "    </tr>\n",
       "  </tbody>\n",
       "</table>\n",
       "<p>78 rows × 8 columns</p>\n",
       "</div>"
      ],
      "text/plain": [
       "    SYS  DAI  pluse  PtP   W    H  age  gender\n",
       "0   117   70     83   47  65  165   33       2\n",
       "1   125   82     73   43  58  166   25       1\n",
       "2   119   75    103   44  59  161   30       1\n",
       "3   102   66     83   36  57  160   29       1\n",
       "4   138   79     91   59  68  165   33       2\n",
       "..  ...  ...    ...  ...  ..  ...  ...     ...\n",
       "73  100   68     81   32  50  159   29       1\n",
       "74  124   65     57   59  70  168   29       2\n",
       "75  104   75     73   29  60  163   28       1\n",
       "76  117   76     81   41  80  180   35       2\n",
       "77  111   71     98   40  43  153   29       1\n",
       "\n",
       "[78 rows x 8 columns]"
      ]
     },
     "execution_count": 16,
     "metadata": {},
     "output_type": "execute_result"
    }
   ],
   "source": [
    "df"
   ]
  },
  {
   "cell_type": "code",
   "execution_count": 17,
   "id": "45e85337",
   "metadata": {},
   "outputs": [],
   "source": [
    "def classificar_pressao(sistolica, diastolica):\n",
    "    if sistolica < 120 and diastolica < 80:\n",
    "        return 0\n",
    "    else:\n",
    "        return 1"
   ]
  },
  {
   "cell_type": "code",
   "execution_count": 18,
   "id": "e4e40d44",
   "metadata": {},
   "outputs": [],
   "source": [
    "df['Class'] = df.apply(\n",
    "    lambda row: classificar_pressao(row['SYS'], row['DAI']), axis=1\n",
    ")"
   ]
  },
  {
   "cell_type": "code",
   "execution_count": 23,
   "id": "a3cf6a20",
   "metadata": {},
   "outputs": [],
   "source": [
    "df2 = df[[\"W\",\"H\",\"age\",\"gender\",\"Class\"]]\n",
    "df2\n",
    "df2.to_csv(\"dados_filtrados.csv\", index=False)"
   ]
  },
  {
   "cell_type": "code",
   "execution_count": 13,
   "id": "19c4a238",
   "metadata": {},
   "outputs": [
    {
     "data": {
      "application/vnd.microsoft.datawrangler.viewer.v0+json": {
       "columns": [
        {
         "name": "Classificação",
         "rawType": "int64",
         "type": "integer"
        },
        {
         "name": "count",
         "rawType": "int64",
         "type": "integer"
        }
       ],
       "ref": "da9d45ff-dd66-4cbe-affd-9dd89caf5ef7",
       "rows": [
        [
         "1",
         "40"
        ],
        [
         "0",
         "38"
        ]
       ],
       "shape": {
        "columns": 1,
        "rows": 2
       }
      },
      "text/plain": [
       "Classificação\n",
       "1    40\n",
       "0    38\n",
       "Name: count, dtype: int64"
      ]
     },
     "execution_count": 13,
     "metadata": {},
     "output_type": "execute_result"
    }
   ],
   "source": [
    "casosPressao = df['Classificação'].value_counts()\n",
    "casosPressao"
   ]
  },
  {
   "cell_type": "code",
   "execution_count": 27,
   "id": "75c55050",
   "metadata": {},
   "outputs": [
    {
     "data": {
      "text/plain": [
       "Classificação\n",
       "Risco de hipertensão     50.000000\n",
       "Normal                   43.589744\n",
       "Pressão baixa             5.128205\n",
       "Hipertensão estágio 1     1.282051\n",
       "Name: proportion, dtype: float64"
      ]
     },
     "execution_count": 27,
     "metadata": {},
     "output_type": "execute_result"
    }
   ],
   "source": [
    "porcentagensPressao = df['Classificação'].value_counts(normalize=True) * 100\n",
    "porcentagensPressao"
   ]
  },
  {
   "cell_type": "code",
   "execution_count": 29,
   "id": "f2bc47ac",
   "metadata": {},
   "outputs": [
    {
     "data": {
      "text/plain": [
       "age\n",
       "28    8\n",
       "29    8\n",
       "33    6\n",
       "34    6\n",
       "35    5\n",
       "30    4\n",
       "51    4\n",
       "27    3\n",
       "31    3\n",
       "40    3\n",
       "21    3\n",
       "22    3\n",
       "36    2\n",
       "39    2\n",
       "61    2\n",
       "52    2\n",
       "41    2\n",
       "45    1\n",
       "58    1\n",
       "26    1\n",
       "25    1\n",
       "57    1\n",
       "47    1\n",
       "24    1\n",
       "56    1\n",
       "38    1\n",
       "66    1\n",
       "23    1\n",
       "59    1\n",
       "Name: count, dtype: int64"
      ]
     },
     "execution_count": 29,
     "metadata": {},
     "output_type": "execute_result"
    }
   ],
   "source": [
    "casosIdade = df['age'].value_counts()\n",
    "casosIdade"
   ]
  },
  {
   "cell_type": "code",
   "execution_count": 30,
   "id": "b0978707",
   "metadata": {},
   "outputs": [
    {
     "data": {
      "text/plain": [
       "age\n",
       "28    10.256410\n",
       "29    10.256410\n",
       "33     7.692308\n",
       "34     7.692308\n",
       "35     6.410256\n",
       "30     5.128205\n",
       "51     5.128205\n",
       "27     3.846154\n",
       "31     3.846154\n",
       "40     3.846154\n",
       "21     3.846154\n",
       "22     3.846154\n",
       "36     2.564103\n",
       "39     2.564103\n",
       "61     2.564103\n",
       "52     2.564103\n",
       "41     2.564103\n",
       "45     1.282051\n",
       "58     1.282051\n",
       "26     1.282051\n",
       "25     1.282051\n",
       "57     1.282051\n",
       "47     1.282051\n",
       "24     1.282051\n",
       "56     1.282051\n",
       "38     1.282051\n",
       "66     1.282051\n",
       "23     1.282051\n",
       "59     1.282051\n",
       "Name: proportion, dtype: float64"
      ]
     },
     "execution_count": 30,
     "metadata": {},
     "output_type": "execute_result"
    }
   ],
   "source": [
    "porcentagensIdade = df['age'].value_counts(normalize=True) * 100\n",
    "porcentagensIdade"
   ]
  }
 ],
 "metadata": {
  "kernelspec": {
   "display_name": "Python 3",
   "language": "python",
   "name": "python3"
  },
  "language_info": {
   "codemirror_mode": {
    "name": "ipython",
    "version": 3
   },
   "file_extension": ".py",
   "mimetype": "text/x-python",
   "name": "python",
   "nbconvert_exporter": "python",
   "pygments_lexer": "ipython3",
   "version": "3.12.6"
  }
 },
 "nbformat": 4,
 "nbformat_minor": 5
}
