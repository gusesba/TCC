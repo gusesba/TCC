{
 "cells": [
  {
   "cell_type": "markdown",
   "id": "76282467",
   "metadata": {},
   "source": [
    "### Teste dataset do artigo Phonocardiogram signal dataset paired with blood pressure measurements"
   ]
  },
  {
   "cell_type": "code",
   "execution_count": 21,
   "id": "6509434b",
   "metadata": {},
   "outputs": [],
   "source": [
    "import pandas as pd"
   ]
  },
  {
   "cell_type": "code",
   "execution_count": 22,
   "id": "89e9a04f",
   "metadata": {},
   "outputs": [],
   "source": [
    "df1 = pd.read_excel('Participant_BP_Label.xlsx')\n",
    "df2 = pd.read_excel('Information_78_participant.xlsx')\n",
    "df = pd.concat([df1, df2], axis=1)\n",
    "df.drop(columns=['filename'], inplace=True)"
   ]
  },
  {
   "cell_type": "code",
   "execution_count": 23,
   "id": "fed061ad",
   "metadata": {},
   "outputs": [
    {
     "data": {
      "text/html": [
       "<div>\n",
       "<style scoped>\n",
       "    .dataframe tbody tr th:only-of-type {\n",
       "        vertical-align: middle;\n",
       "    }\n",
       "\n",
       "    .dataframe tbody tr th {\n",
       "        vertical-align: top;\n",
       "    }\n",
       "\n",
       "    .dataframe thead th {\n",
       "        text-align: right;\n",
       "    }\n",
       "</style>\n",
       "<table border=\"1\" class=\"dataframe\">\n",
       "  <thead>\n",
       "    <tr style=\"text-align: right;\">\n",
       "      <th></th>\n",
       "      <th>SYS</th>\n",
       "      <th>DAI</th>\n",
       "      <th>pluse</th>\n",
       "      <th>PtP</th>\n",
       "      <th>W</th>\n",
       "      <th>H</th>\n",
       "      <th>age</th>\n",
       "      <th>gender</th>\n",
       "    </tr>\n",
       "  </thead>\n",
       "  <tbody>\n",
       "    <tr>\n",
       "      <th>0</th>\n",
       "      <td>117</td>\n",
       "      <td>70</td>\n",
       "      <td>83</td>\n",
       "      <td>47</td>\n",
       "      <td>65</td>\n",
       "      <td>165</td>\n",
       "      <td>33</td>\n",
       "      <td>2</td>\n",
       "    </tr>\n",
       "    <tr>\n",
       "      <th>1</th>\n",
       "      <td>125</td>\n",
       "      <td>82</td>\n",
       "      <td>73</td>\n",
       "      <td>43</td>\n",
       "      <td>58</td>\n",
       "      <td>166</td>\n",
       "      <td>25</td>\n",
       "      <td>1</td>\n",
       "    </tr>\n",
       "    <tr>\n",
       "      <th>2</th>\n",
       "      <td>119</td>\n",
       "      <td>75</td>\n",
       "      <td>103</td>\n",
       "      <td>44</td>\n",
       "      <td>59</td>\n",
       "      <td>161</td>\n",
       "      <td>30</td>\n",
       "      <td>1</td>\n",
       "    </tr>\n",
       "    <tr>\n",
       "      <th>3</th>\n",
       "      <td>102</td>\n",
       "      <td>66</td>\n",
       "      <td>83</td>\n",
       "      <td>36</td>\n",
       "      <td>57</td>\n",
       "      <td>160</td>\n",
       "      <td>29</td>\n",
       "      <td>1</td>\n",
       "    </tr>\n",
       "    <tr>\n",
       "      <th>4</th>\n",
       "      <td>138</td>\n",
       "      <td>79</td>\n",
       "      <td>91</td>\n",
       "      <td>59</td>\n",
       "      <td>68</td>\n",
       "      <td>165</td>\n",
       "      <td>33</td>\n",
       "      <td>2</td>\n",
       "    </tr>\n",
       "    <tr>\n",
       "      <th>...</th>\n",
       "      <td>...</td>\n",
       "      <td>...</td>\n",
       "      <td>...</td>\n",
       "      <td>...</td>\n",
       "      <td>...</td>\n",
       "      <td>...</td>\n",
       "      <td>...</td>\n",
       "      <td>...</td>\n",
       "    </tr>\n",
       "    <tr>\n",
       "      <th>73</th>\n",
       "      <td>100</td>\n",
       "      <td>68</td>\n",
       "      <td>81</td>\n",
       "      <td>32</td>\n",
       "      <td>50</td>\n",
       "      <td>159</td>\n",
       "      <td>29</td>\n",
       "      <td>1</td>\n",
       "    </tr>\n",
       "    <tr>\n",
       "      <th>74</th>\n",
       "      <td>124</td>\n",
       "      <td>65</td>\n",
       "      <td>57</td>\n",
       "      <td>59</td>\n",
       "      <td>70</td>\n",
       "      <td>168</td>\n",
       "      <td>29</td>\n",
       "      <td>2</td>\n",
       "    </tr>\n",
       "    <tr>\n",
       "      <th>75</th>\n",
       "      <td>104</td>\n",
       "      <td>75</td>\n",
       "      <td>73</td>\n",
       "      <td>29</td>\n",
       "      <td>60</td>\n",
       "      <td>163</td>\n",
       "      <td>28</td>\n",
       "      <td>1</td>\n",
       "    </tr>\n",
       "    <tr>\n",
       "      <th>76</th>\n",
       "      <td>117</td>\n",
       "      <td>76</td>\n",
       "      <td>81</td>\n",
       "      <td>41</td>\n",
       "      <td>80</td>\n",
       "      <td>180</td>\n",
       "      <td>35</td>\n",
       "      <td>2</td>\n",
       "    </tr>\n",
       "    <tr>\n",
       "      <th>77</th>\n",
       "      <td>111</td>\n",
       "      <td>71</td>\n",
       "      <td>98</td>\n",
       "      <td>40</td>\n",
       "      <td>43</td>\n",
       "      <td>153</td>\n",
       "      <td>29</td>\n",
       "      <td>1</td>\n",
       "    </tr>\n",
       "  </tbody>\n",
       "</table>\n",
       "<p>78 rows × 8 columns</p>\n",
       "</div>"
      ],
      "text/plain": [
       "    SYS  DAI  pluse  PtP   W    H  age  gender\n",
       "0   117   70     83   47  65  165   33       2\n",
       "1   125   82     73   43  58  166   25       1\n",
       "2   119   75    103   44  59  161   30       1\n",
       "3   102   66     83   36  57  160   29       1\n",
       "4   138   79     91   59  68  165   33       2\n",
       "..  ...  ...    ...  ...  ..  ...  ...     ...\n",
       "73  100   68     81   32  50  159   29       1\n",
       "74  124   65     57   59  70  168   29       2\n",
       "75  104   75     73   29  60  163   28       1\n",
       "76  117   76     81   41  80  180   35       2\n",
       "77  111   71     98   40  43  153   29       1\n",
       "\n",
       "[78 rows x 8 columns]"
      ]
     },
     "execution_count": 23,
     "metadata": {},
     "output_type": "execute_result"
    }
   ],
   "source": [
    "df"
   ]
  },
  {
   "cell_type": "code",
   "execution_count": 24,
   "id": "45e85337",
   "metadata": {},
   "outputs": [],
   "source": [
    "def classificar_pressao(sistolica, diastolica):\n",
    "    if sistolica < 90 or diastolica < 60:\n",
    "        return 'Pressão baixa'\n",
    "    elif 90 <= sistolica < 120 and 60 <= diastolica < 80:\n",
    "        return 'Normal'\n",
    "    elif 120 <= sistolica < 140 or 80 <= diastolica < 90:\n",
    "        return 'Risco de hipertensão'\n",
    "    elif 140 <= sistolica < 160 or 90 <= diastolica < 100:\n",
    "        return 'Hipertensão estágio 1'\n",
    "    else:  # sistolica >= 160 or diastolica >= 100\n",
    "        return 'Hipertensão estágio 2'"
   ]
  },
  {
   "cell_type": "code",
   "execution_count": 25,
   "id": "e4e40d44",
   "metadata": {},
   "outputs": [],
   "source": [
    "df['Classificação'] = df.apply(\n",
    "    lambda row: classificar_pressao(row['SYS'], row['DAI']), axis=1\n",
    ")"
   ]
  },
  {
   "cell_type": "code",
   "execution_count": 26,
   "id": "19c4a238",
   "metadata": {},
   "outputs": [
    {
     "data": {
      "text/plain": [
       "Classificação\n",
       "Risco de hipertensão     39\n",
       "Normal                   34\n",
       "Pressão baixa             4\n",
       "Hipertensão estágio 1     1\n",
       "Name: count, dtype: int64"
      ]
     },
     "execution_count": 26,
     "metadata": {},
     "output_type": "execute_result"
    }
   ],
   "source": [
    "casosPressao = df['Classificação'].value_counts()\n",
    "casosPressao"
   ]
  },
  {
   "cell_type": "code",
   "execution_count": 27,
   "id": "75c55050",
   "metadata": {},
   "outputs": [
    {
     "data": {
      "text/plain": [
       "Classificação\n",
       "Risco de hipertensão     50.000000\n",
       "Normal                   43.589744\n",
       "Pressão baixa             5.128205\n",
       "Hipertensão estágio 1     1.282051\n",
       "Name: proportion, dtype: float64"
      ]
     },
     "execution_count": 27,
     "metadata": {},
     "output_type": "execute_result"
    }
   ],
   "source": [
    "porcentagensPressao = df['Classificação'].value_counts(normalize=True) * 100\n",
    "porcentagensPressao"
   ]
  },
  {
   "cell_type": "code",
   "execution_count": 29,
   "id": "f2bc47ac",
   "metadata": {},
   "outputs": [
    {
     "data": {
      "text/plain": [
       "age\n",
       "28    8\n",
       "29    8\n",
       "33    6\n",
       "34    6\n",
       "35    5\n",
       "30    4\n",
       "51    4\n",
       "27    3\n",
       "31    3\n",
       "40    3\n",
       "21    3\n",
       "22    3\n",
       "36    2\n",
       "39    2\n",
       "61    2\n",
       "52    2\n",
       "41    2\n",
       "45    1\n",
       "58    1\n",
       "26    1\n",
       "25    1\n",
       "57    1\n",
       "47    1\n",
       "24    1\n",
       "56    1\n",
       "38    1\n",
       "66    1\n",
       "23    1\n",
       "59    1\n",
       "Name: count, dtype: int64"
      ]
     },
     "execution_count": 29,
     "metadata": {},
     "output_type": "execute_result"
    }
   ],
   "source": [
    "casosIdade = df['age'].value_counts()\n",
    "casosIdade"
   ]
  },
  {
   "cell_type": "code",
   "execution_count": 30,
   "id": "b0978707",
   "metadata": {},
   "outputs": [
    {
     "data": {
      "text/plain": [
       "age\n",
       "28    10.256410\n",
       "29    10.256410\n",
       "33     7.692308\n",
       "34     7.692308\n",
       "35     6.410256\n",
       "30     5.128205\n",
       "51     5.128205\n",
       "27     3.846154\n",
       "31     3.846154\n",
       "40     3.846154\n",
       "21     3.846154\n",
       "22     3.846154\n",
       "36     2.564103\n",
       "39     2.564103\n",
       "61     2.564103\n",
       "52     2.564103\n",
       "41     2.564103\n",
       "45     1.282051\n",
       "58     1.282051\n",
       "26     1.282051\n",
       "25     1.282051\n",
       "57     1.282051\n",
       "47     1.282051\n",
       "24     1.282051\n",
       "56     1.282051\n",
       "38     1.282051\n",
       "66     1.282051\n",
       "23     1.282051\n",
       "59     1.282051\n",
       "Name: proportion, dtype: float64"
      ]
     },
     "execution_count": 30,
     "metadata": {},
     "output_type": "execute_result"
    }
   ],
   "source": [
    "porcentagensIdade = df['age'].value_counts(normalize=True) * 100\n",
    "porcentagensIdade"
   ]
  }
 ],
 "metadata": {
  "kernelspec": {
   "display_name": "Python 3",
   "language": "python",
   "name": "python3"
  },
  "language_info": {
   "codemirror_mode": {
    "name": "ipython",
    "version": 3
   },
   "file_extension": ".py",
   "mimetype": "text/x-python",
   "name": "python",
   "nbconvert_exporter": "python",
   "pygments_lexer": "ipython3",
   "version": "3.12.6"
  }
 },
 "nbformat": 4,
 "nbformat_minor": 5
}
